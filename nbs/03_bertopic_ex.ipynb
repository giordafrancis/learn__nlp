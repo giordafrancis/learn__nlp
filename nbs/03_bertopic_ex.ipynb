{
 "cells": [
  {
   "cell_type": "markdown",
   "id": "50ebd01d-0edb-463a-8668-ad8f1b677813",
   "metadata": {},
   "source": [
    "# Example using BerTopic"
   ]
  },
  {
   "cell_type": "markdown",
   "id": "60c98e94-3c86-43c3-b77b-4488ea25df6b",
   "metadata": {},
   "source": [
    "## Data processing\n",
    "\n",
    "Lets import the required libraries"
   ]
  },
  {
   "cell_type": "code",
   "execution_count": 1,
   "id": "34b9b726-b672-466b-9ff0-15a0251b7344",
   "metadata": {},
   "outputs": [],
   "source": [
    "import gradio as gr\n",
    "import pandas as pd\n",
    "import numpy as np\n",
    "from sklearn.feature_extraction.text import CountVectorizer\n",
    "from pathlib import Path\n",
    "import polars as pl\n",
    "from sentence_transformers import SentenceTransformer\n",
    "from sklearn.datasets import fetch_20newsgroups\n",
    "from umap import UMAP\n",
    "from bertopic import BERTopic"
   ]
  },
  {
   "cell_type": "code",
   "execution_count": 3,
   "id": "85376480-d9fa-4e75-879a-508948ce7121",
   "metadata": {},
   "outputs": [],
   "source": [
    "# Load dataset\n",
    "newsgroups_train = fetch_20newsgroups(subset='train')\n",
    "docs = np.array(newsgroups_train.data)\n",
    "# subset the data as to reduce the size of docs\n",
    "idxs = np.random.randint(0, len(docs), size=200)\n",
    "docs = docs[idxs]"
   ]
  },
  {
   "cell_type": "code",
   "execution_count": 6,
   "id": "16b9248d-813e-4dd5-925e-c2a7e9120c91",
   "metadata": {},
   "outputs": [],
   "source": [
    "def initial_clean(docs):\n",
    "    \"\"\"\n",
    "    A collcetion of regexs that clean text\n",
    "    \"\"\"\n",
    "    idx = 57\n",
    "    # some text cleaning example\n",
    "    html_pattern_regex = r'<.*?>|&([a-z0-9]+|#[0-9]{1,6}|#x[0-9a-f]{1,6});|\\xa0|&nbsp;'\n",
    "    html_start_pattern_end_dots_regex = r'<(.*?)\\.\\.'\n",
    "    email_pattern_regex = r'\\S*@\\S*\\s?'\n",
    "    num_pattern_regex = r'[0-9]+'\n",
    "    nums_two_more_regex = r'\\b[0-9]{2,}\\b|\\b[0-9]+\\s[0-9]+\\b'\n",
    "    postcode_pattern_regex = r'(\\b(?:[A-Z][A-HJ-Y]?[0-9][0-9A-Z]? ?[0-9][A-Z]{2})|((GIR ?0A{2})\\b$)|(?:[A-Z][A-HJ-Y]?[0-9][0-9A-Z]? ?[0-9]{1}?)$)|(\\b(?:[A-Z][A-HJ-Y]?[0-9][0-9A-Z]?)\\b$)'\n",
    "    multiple_spaces_regex = r'\\s{2,}'\n",
    "    text = pl.Series(docs).str.strip_chars()\n",
    "    print(\"-\"*10 +\"Raw\"+\"-\"*10 )\n",
    "    print(text[idx])\n",
    "    text = text.str.replace_all(html_pattern_regex, ' ')\n",
    "    text = text.str.replace_all(html_start_pattern_end_dots_regex, ' ')\n",
    "    text = text.str.replace_all(email_pattern_regex, ' ')\n",
    "    text = text.str.replace_all(nums_two_more_regex, ' ')\n",
    "    text = text.str.replace_all(postcode_pattern_regex, ' ')\n",
    "    print(\"-\"*10 +\"After\"+\"-\"*10 )\n",
    "    print(text[idx])\n",
    "    return text"
   ]
  },
  {
   "cell_type": "code",
   "execution_count": 7,
   "id": "9ec6cd65-b35d-4c28-9d75-825f668af450",
   "metadata": {},
   "outputs": [
    {
     "name": "stdout",
     "output_type": "stream",
     "text": [
      "----------Raw----------\n",
      "From: franceschi@pasadena-dc.bofa.com\n",
      "Subject: Re: Gov't break-ins (Re: 60 minutes)\n",
      "Organization: Bank America Systems Engineering, Pasadena, CA\n",
      "Lines: 20\n",
      "\n",
      "On a Los Angeles radio station last weekend, the lawyers for the\n",
      "family of the MURDERED rancher said that the Los Angeles Sheriff's\n",
      "Department had an assessment done of the rancher's property before\n",
      "the raid.\n",
      "\n",
      "This strongly implies that the sheriff's department wanted the property;\n",
      "any drugs (which were not found) were only an excuse.\n",
      "\n",
      "In Viet Nam, Lt Calley was tried and convicted of murder because his\n",
      "troops, in a war setting, deliberately killed innocent people. It is time\n",
      "that the domestic law enforcement agencies in this country adhere to\n",
      "standards at least as moral as the military's.\n",
      "\n",
      "Greed killed the rancher, possibly greed killed the Davidian children.\n",
      "Government greed.\n",
      "\n",
      "It is time to prosecute the leaders who perform these invasions.\n",
      "\n",
      "\n",
      "Fred Franceschi   (These are my own opinions!)\n",
      "----------After----------\n",
      "From:  Subject: Re: Gov't break-ins (Re:   minutes)\n",
      "Organization: Bank America Systems Engineering, Pasadena, CA\n",
      "Lines:  \n",
      "\n",
      "On a Los Angeles radio station last weekend, the lawyers for the\n",
      "family of the MURDERED rancher said that the Los Angeles Sheriff's\n",
      "Department had an assessment done of the rancher's property before\n",
      "the raid.\n",
      "\n",
      "This strongly implies that the sheriff's department wanted the property;\n",
      "any drugs (which were not found) were only an excuse.\n",
      "\n",
      "In Viet Nam, Lt Calley was tried and convicted of murder because his\n",
      "troops, in a war setting, deliberately killed innocent people. It is time\n",
      "that the domestic law enforcement agencies in this country adhere to\n",
      "standards at least as moral as the military's.\n",
      "\n",
      "Greed killed the rancher, possibly greed killed the Davidian children.\n",
      "Government greed.\n",
      "\n",
      "It is time to prosecute the leaders who perform these invasions.\n",
      "\n",
      "\n",
      "Fred Franceschi   (These are my own opinions!)\n"
     ]
    }
   ],
   "source": [
    "clean_text = initial_clean(docs)\n",
    "docs = clean_text.to_list()"
   ]
  },
  {
   "cell_type": "markdown",
   "id": "85c45589-7c87-49d0-be3d-1428da81bf2c",
   "metadata": {},
   "source": [
    "## Embeddings"
   ]
  },
  {
   "cell_type": "code",
   "execution_count": 3,
   "id": "07e389a1-64d7-4d00-8bbe-42c18168d64c",
   "metadata": {},
   "outputs": [],
   "source": [
    "#| hide\n",
    "# BERTopic??\n",
    "# SentenceTransformer??"
   ]
  },
  {
   "cell_type": "code",
   "execution_count": 11,
   "id": "a36d53dc-c1d1-4b6d-9a2a-d34d2b4b8214",
   "metadata": {},
   "outputs": [
    {
     "data": {
      "application/vnd.jupyter.widget-view+json": {
       "model_id": "ce0bbcbe76364c05822221c66660af77",
       "version_major": 2,
       "version_minor": 0
      },
      "text/plain": [
       "Batches:   0%|          | 0/7 [00:00<?, ?it/s]"
      ]
     },
     "metadata": {},
     "output_type": "display_data"
    }
   ],
   "source": [
    "# choosing BerTopic embeddings\n",
    "embeddings_name = \"BAAI/bge-small-en-v1.5\" \n",
    "embedding_model = SentenceTransformer(embeddings_name) \n",
    "embeddings_out  = embedding_model.encode(sentences=docs, show_progress_bar=True, batch_size=32)"
   ]
  },
  {
   "cell_type": "markdown",
   "id": "e17dc36a-03c6-460f-8ffa-29999dd24fdf",
   "metadata": {},
   "source": [
    "### Reduce Document embeddings matrix size"
   ]
  },
  {
   "cell_type": "code",
   "execution_count": 12,
   "id": "6d0331a7-cdcc-47f1-b45c-cd051534bedf",
   "metadata": {},
   "outputs": [],
   "source": [
    "umap_model = UMAP(n_neighbors=15, n_components=5, min_dist=0.0, metric='cosine', low_memory=False, random_state=42)\n",
    "vectoriser_model = CountVectorizer(stop_words=\"english\", ngram_range=(1, 2), min_df=0.1, max_df=0.95)\n",
    "min_docs_slider, max_topics_slider = 5, 50 # min docs required to make topic, max number of topics"
   ]
  },
  {
   "cell_type": "markdown",
   "id": "5de9b220-1ae3-4302-8997-b72eaf42b34f",
   "metadata": {},
   "source": [
    "## Create a Topic Model"
   ]
  },
  {
   "cell_type": "code",
   "execution_count": 13,
   "id": "2bc83f6b-5cc0-431d-8603-814d7df93ad3",
   "metadata": {},
   "outputs": [
    {
     "name": "stderr",
     "output_type": "stream",
     "text": [
      "2024-05-30 16:01:07,426 - BERTopic - Dimensionality - Fitting the dimensionality reduction algorithm\n",
      "2024-05-30 16:01:11,572 - BERTopic - Dimensionality - Completed ✓\n",
      "2024-05-30 16:01:11,573 - BERTopic - Cluster - Start clustering the reduced embeddings\n",
      "2024-05-30 16:01:11,592 - BERTopic - Cluster - Completed ✓\n",
      "2024-05-30 16:01:11,593 - BERTopic - Representation - Extracting topics from clusters using representation models.\n",
      "2024-05-30 16:01:11,721 - BERTopic - Representation - Completed ✓\n",
      "2024-05-30 16:01:11,722 - BERTopic - Topic reduction - Reducing number of topics\n",
      "2024-05-30 16:01:11,724 - BERTopic - Topic reduction - Reduced number of topics from 10 to 10\n"
     ]
    }
   ],
   "source": [
    "topic_model = BERTopic( embedding_model=embedding_model,\n",
    "                        vectorizer_model=vectoriser_model,\n",
    "                        umap_model=umap_model,\n",
    "                        min_topic_size = min_docs_slider,\n",
    "                        nr_topics = max_topics_slider,\n",
    "                        calculate_probabilities=True,\n",
    "                        verbose = True)\n",
    "assigned_topics, probs = topic_model.fit_transform(docs, embeddings_out)"
   ]
  },
  {
   "cell_type": "code",
   "execution_count": 14,
   "id": "f6c15f37-d200-4d50-bb95-e24446aa8f7f",
   "metadata": {},
   "outputs": [
    {
     "data": {
      "text/plain": [
       "(9,)"
      ]
     },
     "execution_count": 14,
     "metadata": {},
     "output_type": "execute_result"
    }
   ],
   "source": [
    "# prob of each topic\n",
    "probs[0].shape"
   ]
  },
  {
   "cell_type": "code",
   "execution_count": 15,
   "id": "d126b36f-d6ea-45a9-9c08-a0a5e206d37d",
   "metadata": {},
   "outputs": [
    {
     "data": {
      "text/plain": [
       "[6, -1, 5, 7, 7, 0, 6, 5, 5, 5]"
      ]
     },
     "execution_count": 15,
     "metadata": {},
     "output_type": "execute_result"
    }
   ],
   "source": [
    "# topic assignment\n",
    "assigned_topics[:10]"
   ]
  },
  {
   "cell_type": "markdown",
   "id": "e393139d-a583-41b0-a4ff-899b54a1edfa",
   "metadata": {},
   "source": [
    "### Reduce Outliers"
   ]
  },
  {
   "cell_type": "code",
   "execution_count": 16,
   "id": "2c1f5476-4733-4d67-9d2f-53c7314f6568",
   "metadata": {},
   "outputs": [],
   "source": [
    "# Calculate the c-TF-IDF representation for each outlier document and find the best matching c-TF-IDF topic representation using cosine similarity.\n",
    "assigned_topics = topic_model.reduce_outliers(docs, assigned_topics, strategy=\"embeddings\")"
   ]
  },
  {
   "cell_type": "code",
   "execution_count": 17,
   "id": "5054cff2-a2a8-40b7-a2b2-0f8f6f27a9e5",
   "metadata": {},
   "outputs": [
    {
     "name": "stderr",
     "output_type": "stream",
     "text": [
      "2024-05-30 16:01:16,304 - BERTopic - WARNING: Using a custom list of topic assignments may lead to errors if topic reduction techniques are used afterwards. Make sure that manually assigning topics is the last step in the pipeline.Note that topic embeddings will also be created through weightedc-TF-IDF embeddings instead of centroid embeddings.\n"
     ]
    }
   ],
   "source": [
    "# Then, update the topics to the ones that considered the new data\n",
    "topic_model.update_topics(docs, topics=assigned_topics, vectorizer_model = vectoriser_model)\n",
    "# Tidy up topic label format a bit to have commas and spaces by default\n",
    "new_topic_labels = topic_model.generate_topic_labels(nr_words=3, separator=\", \")\n",
    "topic_model.set_topic_labels(new_topic_labels)"
   ]
  },
  {
   "cell_type": "code",
   "execution_count": 18,
   "id": "221c52b1-0773-4171-a380-28425c77552d",
   "metadata": {},
   "outputs": [
    {
     "data": {
      "text/plain": [
       "['0, play, shots, team',\n",
       " '1, god, jesus, say',\n",
       " '2, armenian, armenians, said',\n",
       " '3, water, riding, writes article',\n",
       " '4, clipper, chip, government',\n",
       " '5, ax, ax ax, max',\n",
       " '6, dc, development, towers',\n",
       " '7, militia, gun, government',\n",
       " '8, blood, gordon banks, banks']"
      ]
     },
     "execution_count": 18,
     "metadata": {},
     "output_type": "execute_result"
    }
   ],
   "source": [
    "new_topic_labels"
   ]
  }
 ],
 "metadata": {
  "kernelspec": {
   "display_name": "Python 3 (ipykernel)",
   "language": "python",
   "name": "python3"
  },
  "language_info": {
   "codemirror_mode": {
    "name": "ipython",
    "version": 3
   },
   "file_extension": ".py",
   "mimetype": "text/x-python",
   "name": "python",
   "nbconvert_exporter": "python",
   "pygments_lexer": "ipython3",
   "version": "3.11.5"
  }
 },
 "nbformat": 4,
 "nbformat_minor": 5
}
