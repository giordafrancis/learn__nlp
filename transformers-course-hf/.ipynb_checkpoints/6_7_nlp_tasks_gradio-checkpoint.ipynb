{
 "cells": [
  {
   "cell_type": "markdown",
   "id": "10fb19c4-0105-449a-97ae-ec0e3eb17038",
   "metadata": {},
   "source": [
    "## NLP tasks - quick audit\n",
    "\n",
    "- dives into more detail about each task. Can be assessed independently \n",
    "- token classification tasks - NER example\n",
    "- summarisation - example "
   ]
  },
  {
   "cell_type": "code",
   "execution_count": null,
   "id": "5a1b4851-b1a0-4d88-9d28-57f9ef4552a3",
   "metadata": {},
   "outputs": [],
   "source": []
  }
 ],
 "metadata": {
  "kernelspec": {
   "display_name": "Python 3 (ipykernel)",
   "language": "python",
   "name": "python3"
  },
  "language_info": {
   "codemirror_mode": {
    "name": "ipython",
    "version": 3
   },
   "file_extension": ".py",
   "mimetype": "text/x-python",
   "name": "python",
   "nbconvert_exporter": "python",
   "pygments_lexer": "ipython3",
   "version": "3.11.5"
  }
 },
 "nbformat": 4,
 "nbformat_minor": 5
}
