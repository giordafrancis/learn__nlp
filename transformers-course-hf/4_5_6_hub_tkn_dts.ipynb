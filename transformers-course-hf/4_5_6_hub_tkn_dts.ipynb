{
 "cells": [
  {
   "cell_type": "markdown",
   "id": "1af2432a-ac40-42d2-ab7c-d8772bd0af7a",
   "metadata": {},
   "source": [
    "## Navigation of model hub\n",
    "\n",
    "- filtering by task is the most sound advice provided"
   ]
  },
  {
   "cell_type": "markdown",
   "id": "687d3959-e25a-487c-ba60-5687f5c314e5",
   "metadata": {},
   "source": [
    "## Sharing models\n",
    "\n",
    "- use git or hf api for vc\n",
    "- update model card for model information"
   ]
  },
  {
   "cell_type": "markdown",
   "id": "b9587fc4-e52d-4730-ac3c-5cbf9886c9ff",
   "metadata": {},
   "source": [
    "## Datasets skipped for now\n",
    "- strategies to handle datasets\n",
    "- create new datasets\n",
    "\n",
    "## Tokenizers skipped for now\n",
    "- training a new tokenizer\n",
    "- review of classical existing ones\n",
    "- mostly how to create a new tokenizer "
   ]
  },
  {
   "cell_type": "code",
   "execution_count": null,
   "id": "8cb92c03-3bf6-461e-a13c-a615a8b719f3",
   "metadata": {},
   "outputs": [],
   "source": []
  }
 ],
 "metadata": {
  "kernelspec": {
   "display_name": "Python 3 (ipykernel)",
   "language": "python",
   "name": "python3"
  },
  "language_info": {
   "codemirror_mode": {
    "name": "ipython",
    "version": 3
   },
   "file_extension": ".py",
   "mimetype": "text/x-python",
   "name": "python",
   "nbconvert_exporter": "python",
   "pygments_lexer": "ipython3",
   "version": "3.11.5"
  }
 },
 "nbformat": 4,
 "nbformat_minor": 5
}
